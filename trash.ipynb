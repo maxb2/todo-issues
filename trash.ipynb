{
 "cells": [
  {
   "cell_type": "code",
   "execution_count": 1,
   "metadata": {},
   "outputs": [],
   "source": [
    "from pathlib import Path\n",
    "from todo_issues.parse import parse_file"
   ]
  },
  {
   "cell_type": "code",
   "execution_count": 7,
   "metadata": {},
   "outputs": [
    {
     "data": {
      "text/plain": [
       "[TodoItem(scope=None, content='module docstring\\n\"\"\"', file=PosixPath('example/example/main.py'), token=TokenInfo(type=3 (STRING), string='\"\"\"Example Repo\\n\\nTODO: module docstring\\n\"\"\"', start=(1, 0), end=(4, 3), line='\"\"\"Example Repo\\n\\nTODO: module docstring\\n\"\"\"\\n')),\n",
       " TodoItem(scope='CI', content='comment', file=PosixPath('example/example/main.py'), token=TokenInfo(type=61 (COMMENT), string='# TODO(CI): comment', start=(6, 0), end=(6, 19), line='# TODO(CI): comment\\n')),\n",
       " TodoItem(scope=None, content='multiline', file=PosixPath('example/example/main.py'), token=TokenInfo(type=61 (COMMENT), string='# TODO: multiline', start=(8, 0), end=(8, 17), line='# TODO: multiline\\n')),\n",
       " TodoItem(scope=None, content='function docstring\\n    \"\"\"', file=PosixPath('example/example/main.py'), token=TokenInfo(type=3 (STRING), string='\"\"\"Foo example.\\n\\n    TODO: function docstring\\n    \"\"\"', start=(13, 4), end=(16, 7), line='    \"\"\"Foo example.\\n\\n    TODO: function docstring\\n    \"\"\"\\n')),\n",
       " TodoItem(scope=None, content='another comment', file=PosixPath('example/example/main.py'), token=TokenInfo(type=61 (COMMENT), string='# TODO: another comment', start=(39, 0), end=(39, 23), line='# TODO: another comment'))]"
      ]
     },
     "execution_count": 7,
     "metadata": {},
     "output_type": "execute_result"
    }
   ],
   "source": [
    "parse_file(Path(\"example/example/main.py\"))"
   ]
  },
  {
   "cell_type": "code",
   "execution_count": null,
   "metadata": {},
   "outputs": [],
   "source": []
  }
 ],
 "metadata": {
  "kernelspec": {
   "display_name": "todo-issues-zBBBAB1F-py3.10",
   "language": "python",
   "name": "python3"
  },
  "language_info": {
   "codemirror_mode": {
    "name": "ipython",
    "version": 3
   },
   "file_extension": ".py",
   "mimetype": "text/x-python",
   "name": "python",
   "nbconvert_exporter": "python",
   "pygments_lexer": "ipython3",
   "version": "3.11.4"
  }
 },
 "nbformat": 4,
 "nbformat_minor": 2
}
